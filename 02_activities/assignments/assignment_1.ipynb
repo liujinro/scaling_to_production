{
 "cells": [
  {
   "cell_type": "markdown",
   "metadata": {},
   "source": [
    "# Working with parquet files\n",
    "\n",
    "## Objective\n",
    "\n",
    "+ In this assignment, we will use the data downloaded with the module `data_manager` to create features.\n",
    "\n",
    "(11 pts total)\n",
    "\n",
    "## Prerequisites\n",
    "\n",
    "+ This notebook assumes that price data is available to you in the environment variable `PRICE_DATA`. If you have not done so, then execute the notebook `production_2_data_engineering.ipynb` to create this data set.\n"
   ]
  },
  {
   "cell_type": "markdown",
   "metadata": {},
   "source": [
    "+ Load the environment variables using dotenv. (1 pt)"
   ]
  },
  {
   "cell_type": "code",
   "execution_count": 78,
   "metadata": {},
   "outputs": [],
   "source": [
    "# Write your code below.\n",
    "%reload_ext dotenv\n",
    "%dotenv\n"
   ]
  },
  {
   "cell_type": "code",
   "execution_count": 80,
   "metadata": {},
   "outputs": [
    {
     "data": {
      "text/plain": [
       "<dask.config.set at 0x1efe7586280>"
      ]
     },
     "execution_count": 80,
     "metadata": {},
     "output_type": "execute_result"
    }
   ],
   "source": [
    "import dask\n",
    "dask.config.set({'dataframe.query-planning': True})\n"
   ]
  },
  {
   "cell_type": "markdown",
   "metadata": {},
   "source": [
    "+ Load the environment variable `PRICE_DATA`.\n",
    "+ Use [glob](https://docs.python.org/3/library/glob.html) to find the path of all parquet files in the directory `PRICE_DATA`.\n",
    "\n",
    "(1pt)"
   ]
  },
  {
   "cell_type": "code",
   "execution_count": 31,
   "metadata": {},
   "outputs": [],
   "source": [
    "import pandas as pd\n",
    "import yfinance as yf\n",
    "import os\n",
    "import sys\n",
    "\n",
    "sys.path.append(os.getenv('SRC_DIR'))"
   ]
  },
  {
   "cell_type": "code",
   "execution_count": 47,
   "metadata": {},
   "outputs": [
    {
     "name": "stdout",
     "output_type": "stream",
     "text": [
      "../../05_src/data/prices/\n",
      "['../../05_src/data/prices\\\\A\\\\A_2013.parquet', '../../05_src/data/prices\\\\A\\\\A_2014.parquet', '../../05_src/data/prices\\\\A\\\\A_2015.parquet', '../../05_src/data/prices\\\\A\\\\A_2016.parquet', '../../05_src/data/prices\\\\A\\\\A_2017.parquet', '../../05_src/data/prices\\\\A\\\\A_2018.parquet', '../../05_src/data/prices\\\\A\\\\A_2019.parquet', '../../05_src/data/prices\\\\A\\\\A_2020.parquet', '../../05_src/data/prices\\\\A\\\\A_2021.parquet', '../../05_src/data/prices\\\\A\\\\A_2022.parquet', '../../05_src/data/prices\\\\A\\\\A_2023.parquet', '../../05_src/data/prices\\\\A\\\\A_2024.parquet', '../../05_src/data/prices\\\\ABNB\\\\ABNB_2020.parquet', '../../05_src/data/prices\\\\ABNB\\\\ABNB_2021.parquet', '../../05_src/data/prices\\\\ABNB\\\\ABNB_2022.parquet', '../../05_src/data/prices\\\\ABNB\\\\ABNB_2023.parquet', '../../05_src/data/prices\\\\ABNB\\\\ABNB_2024.parquet', '../../05_src/data/prices\\\\ABT\\\\ABT_2013.parquet', '../../05_src/data/prices\\\\ABT\\\\ABT_2014.parquet', '../../05_src/data/prices\\\\ABT\\\\ABT_2015.parquet', '../../05_src/data/prices\\\\ABT\\\\ABT_2016.parquet', '../../05_src/data/prices\\\\ABT\\\\ABT_2017.parquet', '../../05_src/data/prices\\\\ABT\\\\ABT_2018.parquet', '../../05_src/data/prices\\\\ABT\\\\ABT_2019.parquet', '../../05_src/data/prices\\\\ABT\\\\ABT_2020.parquet', '../../05_src/data/prices\\\\ABT\\\\ABT_2021.parquet', '../../05_src/data/prices\\\\ABT\\\\ABT_2022.parquet', '../../05_src/data/prices\\\\ABT\\\\ABT_2023.parquet', '../../05_src/data/prices\\\\ABT\\\\ABT_2024.parquet', '../../05_src/data/prices\\\\AMGN\\\\AMGN_2013.parquet', '../../05_src/data/prices\\\\AMGN\\\\AMGN_2014.parquet', '../../05_src/data/prices\\\\AMGN\\\\AMGN_2015.parquet', '../../05_src/data/prices\\\\AMGN\\\\AMGN_2016.parquet', '../../05_src/data/prices\\\\AMGN\\\\AMGN_2017.parquet', '../../05_src/data/prices\\\\AMGN\\\\AMGN_2018.parquet', '../../05_src/data/prices\\\\AMGN\\\\AMGN_2019.parquet', '../../05_src/data/prices\\\\AMGN\\\\AMGN_2020.parquet', '../../05_src/data/prices\\\\AMGN\\\\AMGN_2021.parquet', '../../05_src/data/prices\\\\AMGN\\\\AMGN_2022.parquet', '../../05_src/data/prices\\\\AMGN\\\\AMGN_2023.parquet', '../../05_src/data/prices\\\\AMGN\\\\AMGN_2024.parquet', '../../05_src/data/prices\\\\AMZN\\\\AMZN_2013.parquet', '../../05_src/data/prices\\\\AMZN\\\\AMZN_2014.parquet', '../../05_src/data/prices\\\\AMZN\\\\AMZN_2015.parquet', '../../05_src/data/prices\\\\AMZN\\\\AMZN_2016.parquet', '../../05_src/data/prices\\\\AMZN\\\\AMZN_2017.parquet', '../../05_src/data/prices\\\\AMZN\\\\AMZN_2018.parquet', '../../05_src/data/prices\\\\AMZN\\\\AMZN_2019.parquet', '../../05_src/data/prices\\\\AMZN\\\\AMZN_2020.parquet', '../../05_src/data/prices\\\\AMZN\\\\AMZN_2021.parquet', '../../05_src/data/prices\\\\AMZN\\\\AMZN_2022.parquet', '../../05_src/data/prices\\\\AMZN\\\\AMZN_2023.parquet', '../../05_src/data/prices\\\\AMZN\\\\AMZN_2024.parquet', '../../05_src/data/prices\\\\AWK\\\\AWK_2013.parquet', '../../05_src/data/prices\\\\AWK\\\\AWK_2014.parquet', '../../05_src/data/prices\\\\AWK\\\\AWK_2015.parquet', '../../05_src/data/prices\\\\AWK\\\\AWK_2016.parquet', '../../05_src/data/prices\\\\AWK\\\\AWK_2017.parquet', '../../05_src/data/prices\\\\AWK\\\\AWK_2018.parquet', '../../05_src/data/prices\\\\AWK\\\\AWK_2019.parquet', '../../05_src/data/prices\\\\AWK\\\\AWK_2020.parquet', '../../05_src/data/prices\\\\AWK\\\\AWK_2021.parquet', '../../05_src/data/prices\\\\AWK\\\\AWK_2022.parquet', '../../05_src/data/prices\\\\AWK\\\\AWK_2023.parquet', '../../05_src/data/prices\\\\AWK\\\\AWK_2024.parquet', '../../05_src/data/prices\\\\BBY\\\\BBY_2013.parquet', '../../05_src/data/prices\\\\BBY\\\\BBY_2014.parquet', '../../05_src/data/prices\\\\BBY\\\\BBY_2015.parquet', '../../05_src/data/prices\\\\BBY\\\\BBY_2016.parquet', '../../05_src/data/prices\\\\BBY\\\\BBY_2017.parquet', '../../05_src/data/prices\\\\BBY\\\\BBY_2018.parquet', '../../05_src/data/prices\\\\BBY\\\\BBY_2019.parquet', '../../05_src/data/prices\\\\BBY\\\\BBY_2020.parquet', '../../05_src/data/prices\\\\BBY\\\\BBY_2021.parquet', '../../05_src/data/prices\\\\BBY\\\\BBY_2022.parquet', '../../05_src/data/prices\\\\BBY\\\\BBY_2023.parquet', '../../05_src/data/prices\\\\BBY\\\\BBY_2024.parquet', '../../05_src/data/prices\\\\BKNG\\\\BKNG_2013.parquet', '../../05_src/data/prices\\\\BKNG\\\\BKNG_2014.parquet', '../../05_src/data/prices\\\\BKNG\\\\BKNG_2015.parquet', '../../05_src/data/prices\\\\BKNG\\\\BKNG_2016.parquet', '../../05_src/data/prices\\\\BKNG\\\\BKNG_2017.parquet', '../../05_src/data/prices\\\\BKNG\\\\BKNG_2018.parquet', '../../05_src/data/prices\\\\BKNG\\\\BKNG_2019.parquet', '../../05_src/data/prices\\\\BKNG\\\\BKNG_2020.parquet', '../../05_src/data/prices\\\\BKNG\\\\BKNG_2021.parquet', '../../05_src/data/prices\\\\BKNG\\\\BKNG_2022.parquet', '../../05_src/data/prices\\\\BKNG\\\\BKNG_2023.parquet', '../../05_src/data/prices\\\\BKNG\\\\BKNG_2024.parquet', '../../05_src/data/prices\\\\BR\\\\BR_2013.parquet', '../../05_src/data/prices\\\\BR\\\\BR_2014.parquet', '../../05_src/data/prices\\\\BR\\\\BR_2015.parquet', '../../05_src/data/prices\\\\BR\\\\BR_2016.parquet', '../../05_src/data/prices\\\\BR\\\\BR_2017.parquet', '../../05_src/data/prices\\\\BR\\\\BR_2018.parquet', '../../05_src/data/prices\\\\BR\\\\BR_2019.parquet', '../../05_src/data/prices\\\\BR\\\\BR_2020.parquet', '../../05_src/data/prices\\\\BR\\\\BR_2021.parquet', '../../05_src/data/prices\\\\BR\\\\BR_2022.parquet', '../../05_src/data/prices\\\\BR\\\\BR_2023.parquet', '../../05_src/data/prices\\\\BR\\\\BR_2024.parquet', '../../05_src/data/prices\\\\BRO\\\\BRO_2013.parquet', '../../05_src/data/prices\\\\BRO\\\\BRO_2014.parquet', '../../05_src/data/prices\\\\BRO\\\\BRO_2015.parquet', '../../05_src/data/prices\\\\BRO\\\\BRO_2016.parquet', '../../05_src/data/prices\\\\BRO\\\\BRO_2017.parquet', '../../05_src/data/prices\\\\BRO\\\\BRO_2018.parquet', '../../05_src/data/prices\\\\BRO\\\\BRO_2019.parquet', '../../05_src/data/prices\\\\BRO\\\\BRO_2020.parquet', '../../05_src/data/prices\\\\BRO\\\\BRO_2021.parquet', '../../05_src/data/prices\\\\BRO\\\\BRO_2022.parquet', '../../05_src/data/prices\\\\BRO\\\\BRO_2023.parquet', '../../05_src/data/prices\\\\BRO\\\\BRO_2024.parquet', '../../05_src/data/prices\\\\BSX\\\\BSX_2013.parquet', '../../05_src/data/prices\\\\BSX\\\\BSX_2014.parquet', '../../05_src/data/prices\\\\BSX\\\\BSX_2015.parquet', '../../05_src/data/prices\\\\BSX\\\\BSX_2016.parquet', '../../05_src/data/prices\\\\BSX\\\\BSX_2017.parquet', '../../05_src/data/prices\\\\BSX\\\\BSX_2018.parquet', '../../05_src/data/prices\\\\BSX\\\\BSX_2019.parquet', '../../05_src/data/prices\\\\BSX\\\\BSX_2020.parquet', '../../05_src/data/prices\\\\BSX\\\\BSX_2021.parquet', '../../05_src/data/prices\\\\BSX\\\\BSX_2022.parquet', '../../05_src/data/prices\\\\BSX\\\\BSX_2023.parquet', '../../05_src/data/prices\\\\BSX\\\\BSX_2024.parquet', '../../05_src/data/prices\\\\BX\\\\BX_2013.parquet', '../../05_src/data/prices\\\\BX\\\\BX_2014.parquet', '../../05_src/data/prices\\\\BX\\\\BX_2015.parquet', '../../05_src/data/prices\\\\BX\\\\BX_2016.parquet', '../../05_src/data/prices\\\\BX\\\\BX_2017.parquet', '../../05_src/data/prices\\\\BX\\\\BX_2018.parquet', '../../05_src/data/prices\\\\BX\\\\BX_2019.parquet', '../../05_src/data/prices\\\\BX\\\\BX_2020.parquet', '../../05_src/data/prices\\\\BX\\\\BX_2021.parquet', '../../05_src/data/prices\\\\BX\\\\BX_2022.parquet', '../../05_src/data/prices\\\\BX\\\\BX_2023.parquet', '../../05_src/data/prices\\\\BX\\\\BX_2024.parquet', '../../05_src/data/prices\\\\CBRE\\\\CBRE_2013.parquet', '../../05_src/data/prices\\\\CBRE\\\\CBRE_2014.parquet', '../../05_src/data/prices\\\\CBRE\\\\CBRE_2015.parquet', '../../05_src/data/prices\\\\CBRE\\\\CBRE_2016.parquet', '../../05_src/data/prices\\\\CBRE\\\\CBRE_2017.parquet', '../../05_src/data/prices\\\\CBRE\\\\CBRE_2018.parquet', '../../05_src/data/prices\\\\CBRE\\\\CBRE_2019.parquet', '../../05_src/data/prices\\\\CBRE\\\\CBRE_2020.parquet', '../../05_src/data/prices\\\\CBRE\\\\CBRE_2021.parquet', '../../05_src/data/prices\\\\CBRE\\\\CBRE_2022.parquet', '../../05_src/data/prices\\\\CBRE\\\\CBRE_2023.parquet', '../../05_src/data/prices\\\\CBRE\\\\CBRE_2024.parquet', '../../05_src/data/prices\\\\CPB\\\\CPB_2013.parquet', '../../05_src/data/prices\\\\CPB\\\\CPB_2014.parquet', '../../05_src/data/prices\\\\CPB\\\\CPB_2015.parquet', '../../05_src/data/prices\\\\CPB\\\\CPB_2016.parquet', '../../05_src/data/prices\\\\CPB\\\\CPB_2017.parquet', '../../05_src/data/prices\\\\CPB\\\\CPB_2018.parquet', '../../05_src/data/prices\\\\CPB\\\\CPB_2019.parquet', '../../05_src/data/prices\\\\CPB\\\\CPB_2020.parquet', '../../05_src/data/prices\\\\CPB\\\\CPB_2021.parquet', '../../05_src/data/prices\\\\CPB\\\\CPB_2022.parquet', '../../05_src/data/prices\\\\CPB\\\\CPB_2023.parquet', '../../05_src/data/prices\\\\CPB\\\\CPB_2024.parquet', '../../05_src/data/prices\\\\CRL\\\\CRL_2013.parquet', '../../05_src/data/prices\\\\CRL\\\\CRL_2014.parquet', '../../05_src/data/prices\\\\CRL\\\\CRL_2015.parquet', '../../05_src/data/prices\\\\CRL\\\\CRL_2016.parquet', '../../05_src/data/prices\\\\CRL\\\\CRL_2017.parquet', '../../05_src/data/prices\\\\CRL\\\\CRL_2018.parquet', '../../05_src/data/prices\\\\CRL\\\\CRL_2019.parquet', '../../05_src/data/prices\\\\CRL\\\\CRL_2020.parquet', '../../05_src/data/prices\\\\CRL\\\\CRL_2021.parquet', '../../05_src/data/prices\\\\CRL\\\\CRL_2022.parquet', '../../05_src/data/prices\\\\CRL\\\\CRL_2023.parquet', '../../05_src/data/prices\\\\CRL\\\\CRL_2024.parquet', '../../05_src/data/prices\\\\CVX\\\\CVX_2013.parquet', '../../05_src/data/prices\\\\CVX\\\\CVX_2014.parquet', '../../05_src/data/prices\\\\CVX\\\\CVX_2015.parquet', '../../05_src/data/prices\\\\CVX\\\\CVX_2016.parquet', '../../05_src/data/prices\\\\CVX\\\\CVX_2017.parquet', '../../05_src/data/prices\\\\CVX\\\\CVX_2018.parquet', '../../05_src/data/prices\\\\CVX\\\\CVX_2019.parquet', '../../05_src/data/prices\\\\CVX\\\\CVX_2020.parquet', '../../05_src/data/prices\\\\CVX\\\\CVX_2021.parquet', '../../05_src/data/prices\\\\CVX\\\\CVX_2022.parquet', '../../05_src/data/prices\\\\CVX\\\\CVX_2023.parquet', '../../05_src/data/prices\\\\CVX\\\\CVX_2024.parquet', '../../05_src/data/prices\\\\DOW\\\\DOW_2019.parquet', '../../05_src/data/prices\\\\DOW\\\\DOW_2020.parquet', '../../05_src/data/prices\\\\DOW\\\\DOW_2021.parquet', '../../05_src/data/prices\\\\DOW\\\\DOW_2022.parquet', '../../05_src/data/prices\\\\DOW\\\\DOW_2023.parquet', '../../05_src/data/prices\\\\DOW\\\\DOW_2024.parquet', '../../05_src/data/prices\\\\ED\\\\ED_2013.parquet', '../../05_src/data/prices\\\\ED\\\\ED_2014.parquet', '../../05_src/data/prices\\\\ED\\\\ED_2015.parquet', '../../05_src/data/prices\\\\ED\\\\ED_2016.parquet', '../../05_src/data/prices\\\\ED\\\\ED_2017.parquet', '../../05_src/data/prices\\\\ED\\\\ED_2018.parquet', '../../05_src/data/prices\\\\ED\\\\ED_2019.parquet', '../../05_src/data/prices\\\\ED\\\\ED_2020.parquet', '../../05_src/data/prices\\\\ED\\\\ED_2021.parquet', '../../05_src/data/prices\\\\ED\\\\ED_2022.parquet', '../../05_src/data/prices\\\\ED\\\\ED_2023.parquet', '../../05_src/data/prices\\\\ED\\\\ED_2024.parquet', '../../05_src/data/prices\\\\EPAM\\\\EPAM_2013.parquet', '../../05_src/data/prices\\\\EPAM\\\\EPAM_2014.parquet', '../../05_src/data/prices\\\\EPAM\\\\EPAM_2015.parquet', '../../05_src/data/prices\\\\EPAM\\\\EPAM_2016.parquet', '../../05_src/data/prices\\\\EPAM\\\\EPAM_2017.parquet', '../../05_src/data/prices\\\\EPAM\\\\EPAM_2018.parquet', '../../05_src/data/prices\\\\EPAM\\\\EPAM_2019.parquet', '../../05_src/data/prices\\\\EPAM\\\\EPAM_2020.parquet', '../../05_src/data/prices\\\\EPAM\\\\EPAM_2021.parquet', '../../05_src/data/prices\\\\EPAM\\\\EPAM_2022.parquet', '../../05_src/data/prices\\\\EPAM\\\\EPAM_2023.parquet', '../../05_src/data/prices\\\\EPAM\\\\EPAM_2024.parquet', '../../05_src/data/prices\\\\EXPE\\\\EXPE_2013.parquet', '../../05_src/data/prices\\\\EXPE\\\\EXPE_2014.parquet', '../../05_src/data/prices\\\\EXPE\\\\EXPE_2015.parquet', '../../05_src/data/prices\\\\EXPE\\\\EXPE_2016.parquet', '../../05_src/data/prices\\\\EXPE\\\\EXPE_2017.parquet', '../../05_src/data/prices\\\\EXPE\\\\EXPE_2018.parquet', '../../05_src/data/prices\\\\EXPE\\\\EXPE_2019.parquet', '../../05_src/data/prices\\\\EXPE\\\\EXPE_2020.parquet', '../../05_src/data/prices\\\\EXPE\\\\EXPE_2021.parquet', '../../05_src/data/prices\\\\EXPE\\\\EXPE_2022.parquet', '../../05_src/data/prices\\\\EXPE\\\\EXPE_2023.parquet', '../../05_src/data/prices\\\\EXPE\\\\EXPE_2024.parquet', '../../05_src/data/prices\\\\FIS\\\\FIS_2013.parquet', '../../05_src/data/prices\\\\FIS\\\\FIS_2014.parquet', '../../05_src/data/prices\\\\FIS\\\\FIS_2015.parquet', '../../05_src/data/prices\\\\FIS\\\\FIS_2016.parquet', '../../05_src/data/prices\\\\FIS\\\\FIS_2017.parquet', '../../05_src/data/prices\\\\FIS\\\\FIS_2018.parquet', '../../05_src/data/prices\\\\FIS\\\\FIS_2019.parquet', '../../05_src/data/prices\\\\FIS\\\\FIS_2020.parquet', '../../05_src/data/prices\\\\FIS\\\\FIS_2021.parquet', '../../05_src/data/prices\\\\FIS\\\\FIS_2022.parquet', '../../05_src/data/prices\\\\FIS\\\\FIS_2023.parquet', '../../05_src/data/prices\\\\FIS\\\\FIS_2024.parquet', '../../05_src/data/prices\\\\GS\\\\GS_2013.parquet', '../../05_src/data/prices\\\\GS\\\\GS_2014.parquet', '../../05_src/data/prices\\\\GS\\\\GS_2015.parquet', '../../05_src/data/prices\\\\GS\\\\GS_2016.parquet', '../../05_src/data/prices\\\\GS\\\\GS_2017.parquet', '../../05_src/data/prices\\\\GS\\\\GS_2018.parquet', '../../05_src/data/prices\\\\GS\\\\GS_2019.parquet', '../../05_src/data/prices\\\\GS\\\\GS_2020.parquet', '../../05_src/data/prices\\\\GS\\\\GS_2021.parquet', '../../05_src/data/prices\\\\GS\\\\GS_2022.parquet', '../../05_src/data/prices\\\\GS\\\\GS_2023.parquet', '../../05_src/data/prices\\\\GS\\\\GS_2024.parquet', '../../05_src/data/prices\\\\GWW\\\\GWW_2013.parquet', '../../05_src/data/prices\\\\GWW\\\\GWW_2014.parquet', '../../05_src/data/prices\\\\GWW\\\\GWW_2015.parquet', '../../05_src/data/prices\\\\GWW\\\\GWW_2016.parquet', '../../05_src/data/prices\\\\GWW\\\\GWW_2017.parquet', '../../05_src/data/prices\\\\GWW\\\\GWW_2018.parquet', '../../05_src/data/prices\\\\GWW\\\\GWW_2019.parquet', '../../05_src/data/prices\\\\GWW\\\\GWW_2020.parquet', '../../05_src/data/prices\\\\GWW\\\\GWW_2021.parquet', '../../05_src/data/prices\\\\GWW\\\\GWW_2022.parquet', '../../05_src/data/prices\\\\GWW\\\\GWW_2023.parquet', '../../05_src/data/prices\\\\GWW\\\\GWW_2024.parquet', '../../05_src/data/prices\\\\HAS\\\\HAS_2013.parquet', '../../05_src/data/prices\\\\HAS\\\\HAS_2014.parquet', '../../05_src/data/prices\\\\HAS\\\\HAS_2015.parquet', '../../05_src/data/prices\\\\HAS\\\\HAS_2016.parquet', '../../05_src/data/prices\\\\HAS\\\\HAS_2017.parquet', '../../05_src/data/prices\\\\HAS\\\\HAS_2018.parquet', '../../05_src/data/prices\\\\HAS\\\\HAS_2019.parquet', '../../05_src/data/prices\\\\HAS\\\\HAS_2020.parquet', '../../05_src/data/prices\\\\HAS\\\\HAS_2021.parquet', '../../05_src/data/prices\\\\HAS\\\\HAS_2022.parquet', '../../05_src/data/prices\\\\HAS\\\\HAS_2023.parquet', '../../05_src/data/prices\\\\HAS\\\\HAS_2024.parquet', '../../05_src/data/prices\\\\IBM\\\\IBM_2013.parquet', '../../05_src/data/prices\\\\IBM\\\\IBM_2014.parquet', '../../05_src/data/prices\\\\IBM\\\\IBM_2015.parquet', '../../05_src/data/prices\\\\IBM\\\\IBM_2016.parquet', '../../05_src/data/prices\\\\IBM\\\\IBM_2017.parquet', '../../05_src/data/prices\\\\IBM\\\\IBM_2018.parquet', '../../05_src/data/prices\\\\IBM\\\\IBM_2019.parquet', '../../05_src/data/prices\\\\IBM\\\\IBM_2020.parquet', '../../05_src/data/prices\\\\IBM\\\\IBM_2021.parquet', '../../05_src/data/prices\\\\IBM\\\\IBM_2022.parquet', '../../05_src/data/prices\\\\IBM\\\\IBM_2023.parquet', '../../05_src/data/prices\\\\IBM\\\\IBM_2024.parquet', '../../05_src/data/prices\\\\IT\\\\IT_2013.parquet', '../../05_src/data/prices\\\\IT\\\\IT_2014.parquet', '../../05_src/data/prices\\\\IT\\\\IT_2015.parquet', '../../05_src/data/prices\\\\IT\\\\IT_2016.parquet', '../../05_src/data/prices\\\\IT\\\\IT_2017.parquet', '../../05_src/data/prices\\\\IT\\\\IT_2018.parquet', '../../05_src/data/prices\\\\IT\\\\IT_2019.parquet', '../../05_src/data/prices\\\\IT\\\\IT_2020.parquet', '../../05_src/data/prices\\\\IT\\\\IT_2021.parquet', '../../05_src/data/prices\\\\IT\\\\IT_2022.parquet', '../../05_src/data/prices\\\\IT\\\\IT_2023.parquet', '../../05_src/data/prices\\\\IT\\\\IT_2024.parquet', '../../05_src/data/prices\\\\JCI\\\\JCI_2013.parquet', '../../05_src/data/prices\\\\JCI\\\\JCI_2014.parquet', '../../05_src/data/prices\\\\JCI\\\\JCI_2015.parquet', '../../05_src/data/prices\\\\JCI\\\\JCI_2016.parquet', '../../05_src/data/prices\\\\JCI\\\\JCI_2017.parquet', '../../05_src/data/prices\\\\JCI\\\\JCI_2018.parquet', '../../05_src/data/prices\\\\JCI\\\\JCI_2019.parquet', '../../05_src/data/prices\\\\JCI\\\\JCI_2020.parquet', '../../05_src/data/prices\\\\JCI\\\\JCI_2021.parquet', '../../05_src/data/prices\\\\JCI\\\\JCI_2022.parquet', '../../05_src/data/prices\\\\JCI\\\\JCI_2023.parquet', '../../05_src/data/prices\\\\JCI\\\\JCI_2024.parquet', '../../05_src/data/prices\\\\KHC\\\\KHC_2015.parquet', '../../05_src/data/prices\\\\KHC\\\\KHC_2016.parquet', '../../05_src/data/prices\\\\KHC\\\\KHC_2017.parquet', '../../05_src/data/prices\\\\KHC\\\\KHC_2018.parquet', '../../05_src/data/prices\\\\KHC\\\\KHC_2019.parquet', '../../05_src/data/prices\\\\KHC\\\\KHC_2020.parquet', '../../05_src/data/prices\\\\KHC\\\\KHC_2021.parquet', '../../05_src/data/prices\\\\KHC\\\\KHC_2022.parquet', '../../05_src/data/prices\\\\KHC\\\\KHC_2023.parquet', '../../05_src/data/prices\\\\KHC\\\\KHC_2024.parquet', '../../05_src/data/prices\\\\KVUE\\\\KVUE_2023.parquet', '../../05_src/data/prices\\\\KVUE\\\\KVUE_2024.parquet', '../../05_src/data/prices\\\\LIN\\\\LIN_2013.parquet', '../../05_src/data/prices\\\\LIN\\\\LIN_2014.parquet', '../../05_src/data/prices\\\\LIN\\\\LIN_2015.parquet', '../../05_src/data/prices\\\\LIN\\\\LIN_2016.parquet', '../../05_src/data/prices\\\\LIN\\\\LIN_2017.parquet', '../../05_src/data/prices\\\\LIN\\\\LIN_2018.parquet', '../../05_src/data/prices\\\\LIN\\\\LIN_2019.parquet', '../../05_src/data/prices\\\\LIN\\\\LIN_2020.parquet', '../../05_src/data/prices\\\\LIN\\\\LIN_2021.parquet', '../../05_src/data/prices\\\\LIN\\\\LIN_2022.parquet', '../../05_src/data/prices\\\\LIN\\\\LIN_2023.parquet', '../../05_src/data/prices\\\\LIN\\\\LIN_2024.parquet', '../../05_src/data/prices\\\\LYB\\\\LYB_2013.parquet', '../../05_src/data/prices\\\\LYB\\\\LYB_2014.parquet', '../../05_src/data/prices\\\\LYB\\\\LYB_2015.parquet', '../../05_src/data/prices\\\\LYB\\\\LYB_2016.parquet', '../../05_src/data/prices\\\\LYB\\\\LYB_2017.parquet', '../../05_src/data/prices\\\\LYB\\\\LYB_2018.parquet', '../../05_src/data/prices\\\\LYB\\\\LYB_2019.parquet', '../../05_src/data/prices\\\\LYB\\\\LYB_2020.parquet', '../../05_src/data/prices\\\\LYB\\\\LYB_2021.parquet', '../../05_src/data/prices\\\\LYB\\\\LYB_2022.parquet', '../../05_src/data/prices\\\\LYB\\\\LYB_2023.parquet', '../../05_src/data/prices\\\\LYB\\\\LYB_2024.parquet', '../../05_src/data/prices\\\\MAS\\\\MAS_2013.parquet', '../../05_src/data/prices\\\\MAS\\\\MAS_2014.parquet', '../../05_src/data/prices\\\\MAS\\\\MAS_2015.parquet', '../../05_src/data/prices\\\\MAS\\\\MAS_2016.parquet', '../../05_src/data/prices\\\\MAS\\\\MAS_2017.parquet', '../../05_src/data/prices\\\\MAS\\\\MAS_2018.parquet', '../../05_src/data/prices\\\\MAS\\\\MAS_2019.parquet', '../../05_src/data/prices\\\\MAS\\\\MAS_2020.parquet', '../../05_src/data/prices\\\\MAS\\\\MAS_2021.parquet', '../../05_src/data/prices\\\\MAS\\\\MAS_2022.parquet', '../../05_src/data/prices\\\\MAS\\\\MAS_2023.parquet', '../../05_src/data/prices\\\\MAS\\\\MAS_2024.parquet', '../../05_src/data/prices\\\\MDT\\\\MDT_2013.parquet', '../../05_src/data/prices\\\\MDT\\\\MDT_2014.parquet', '../../05_src/data/prices\\\\MDT\\\\MDT_2015.parquet', '../../05_src/data/prices\\\\MDT\\\\MDT_2016.parquet', '../../05_src/data/prices\\\\MDT\\\\MDT_2017.parquet', '../../05_src/data/prices\\\\MDT\\\\MDT_2018.parquet', '../../05_src/data/prices\\\\MDT\\\\MDT_2019.parquet', '../../05_src/data/prices\\\\MDT\\\\MDT_2020.parquet', '../../05_src/data/prices\\\\MDT\\\\MDT_2021.parquet', '../../05_src/data/prices\\\\MDT\\\\MDT_2022.parquet', '../../05_src/data/prices\\\\MDT\\\\MDT_2023.parquet', '../../05_src/data/prices\\\\MDT\\\\MDT_2024.parquet', '../../05_src/data/prices\\\\MMM\\\\MMM_2013.parquet', '../../05_src/data/prices\\\\MMM\\\\MMM_2014.parquet', '../../05_src/data/prices\\\\MMM\\\\MMM_2015.parquet', '../../05_src/data/prices\\\\MMM\\\\MMM_2016.parquet', '../../05_src/data/prices\\\\MMM\\\\MMM_2017.parquet', '../../05_src/data/prices\\\\MMM\\\\MMM_2018.parquet', '../../05_src/data/prices\\\\MMM\\\\MMM_2019.parquet', '../../05_src/data/prices\\\\MMM\\\\MMM_2020.parquet', '../../05_src/data/prices\\\\MMM\\\\MMM_2021.parquet', '../../05_src/data/prices\\\\MMM\\\\MMM_2022.parquet', '../../05_src/data/prices\\\\MMM\\\\MMM_2023.parquet', '../../05_src/data/prices\\\\MMM\\\\MMM_2024.parquet', '../../05_src/data/prices\\\\MU\\\\MU_2013.parquet', '../../05_src/data/prices\\\\MU\\\\MU_2014.parquet', '../../05_src/data/prices\\\\MU\\\\MU_2015.parquet', '../../05_src/data/prices\\\\MU\\\\MU_2016.parquet', '../../05_src/data/prices\\\\MU\\\\MU_2017.parquet', '../../05_src/data/prices\\\\MU\\\\MU_2018.parquet', '../../05_src/data/prices\\\\MU\\\\MU_2019.parquet', '../../05_src/data/prices\\\\MU\\\\MU_2020.parquet', '../../05_src/data/prices\\\\MU\\\\MU_2021.parquet', '../../05_src/data/prices\\\\MU\\\\MU_2022.parquet', '../../05_src/data/prices\\\\MU\\\\MU_2023.parquet', '../../05_src/data/prices\\\\MU\\\\MU_2024.parquet', '../../05_src/data/prices\\\\NEM\\\\NEM_2013.parquet', '../../05_src/data/prices\\\\NEM\\\\NEM_2014.parquet', '../../05_src/data/prices\\\\NEM\\\\NEM_2015.parquet', '../../05_src/data/prices\\\\NEM\\\\NEM_2016.parquet', '../../05_src/data/prices\\\\NEM\\\\NEM_2017.parquet', '../../05_src/data/prices\\\\NEM\\\\NEM_2018.parquet', '../../05_src/data/prices\\\\NEM\\\\NEM_2019.parquet', '../../05_src/data/prices\\\\NEM\\\\NEM_2020.parquet', '../../05_src/data/prices\\\\NEM\\\\NEM_2021.parquet', '../../05_src/data/prices\\\\NEM\\\\NEM_2022.parquet', '../../05_src/data/prices\\\\NEM\\\\NEM_2023.parquet', '../../05_src/data/prices\\\\NEM\\\\NEM_2024.parquet', '../../05_src/data/prices\\\\NFLX\\\\NFLX_2013.parquet', '../../05_src/data/prices\\\\NFLX\\\\NFLX_2014.parquet', '../../05_src/data/prices\\\\NFLX\\\\NFLX_2015.parquet', '../../05_src/data/prices\\\\NFLX\\\\NFLX_2016.parquet', '../../05_src/data/prices\\\\NFLX\\\\NFLX_2017.parquet', '../../05_src/data/prices\\\\NFLX\\\\NFLX_2018.parquet', '../../05_src/data/prices\\\\NFLX\\\\NFLX_2019.parquet', '../../05_src/data/prices\\\\NFLX\\\\NFLX_2020.parquet', '../../05_src/data/prices\\\\NFLX\\\\NFLX_2021.parquet', '../../05_src/data/prices\\\\NFLX\\\\NFLX_2022.parquet', '../../05_src/data/prices\\\\NFLX\\\\NFLX_2023.parquet', '../../05_src/data/prices\\\\NFLX\\\\NFLX_2024.parquet', '../../05_src/data/prices\\\\NUE\\\\NUE_2013.parquet', '../../05_src/data/prices\\\\NUE\\\\NUE_2014.parquet', '../../05_src/data/prices\\\\NUE\\\\NUE_2015.parquet', '../../05_src/data/prices\\\\NUE\\\\NUE_2016.parquet', '../../05_src/data/prices\\\\NUE\\\\NUE_2017.parquet', '../../05_src/data/prices\\\\NUE\\\\NUE_2018.parquet', '../../05_src/data/prices\\\\NUE\\\\NUE_2019.parquet', '../../05_src/data/prices\\\\NUE\\\\NUE_2020.parquet', '../../05_src/data/prices\\\\NUE\\\\NUE_2021.parquet', '../../05_src/data/prices\\\\NUE\\\\NUE_2022.parquet', '../../05_src/data/prices\\\\NUE\\\\NUE_2023.parquet', '../../05_src/data/prices\\\\NUE\\\\NUE_2024.parquet', '../../05_src/data/prices\\\\PNW\\\\PNW_2013.parquet', '../../05_src/data/prices\\\\PNW\\\\PNW_2014.parquet', '../../05_src/data/prices\\\\PNW\\\\PNW_2015.parquet', '../../05_src/data/prices\\\\PNW\\\\PNW_2016.parquet', '../../05_src/data/prices\\\\PNW\\\\PNW_2017.parquet', '../../05_src/data/prices\\\\PNW\\\\PNW_2018.parquet', '../../05_src/data/prices\\\\PNW\\\\PNW_2019.parquet', '../../05_src/data/prices\\\\PNW\\\\PNW_2020.parquet', '../../05_src/data/prices\\\\PNW\\\\PNW_2021.parquet', '../../05_src/data/prices\\\\PNW\\\\PNW_2022.parquet', '../../05_src/data/prices\\\\PNW\\\\PNW_2023.parquet', '../../05_src/data/prices\\\\PNW\\\\PNW_2024.parquet', '../../05_src/data/prices\\\\QCOM\\\\QCOM_2013.parquet', '../../05_src/data/prices\\\\QCOM\\\\QCOM_2014.parquet', '../../05_src/data/prices\\\\QCOM\\\\QCOM_2015.parquet', '../../05_src/data/prices\\\\QCOM\\\\QCOM_2016.parquet', '../../05_src/data/prices\\\\QCOM\\\\QCOM_2017.parquet', '../../05_src/data/prices\\\\QCOM\\\\QCOM_2018.parquet', '../../05_src/data/prices\\\\QCOM\\\\QCOM_2019.parquet', '../../05_src/data/prices\\\\QCOM\\\\QCOM_2020.parquet', '../../05_src/data/prices\\\\QCOM\\\\QCOM_2021.parquet', '../../05_src/data/prices\\\\QCOM\\\\QCOM_2022.parquet', '../../05_src/data/prices\\\\QCOM\\\\QCOM_2023.parquet', '../../05_src/data/prices\\\\QCOM\\\\QCOM_2024.parquet', '../../05_src/data/prices\\\\RCL\\\\RCL_2013.parquet', '../../05_src/data/prices\\\\RCL\\\\RCL_2014.parquet', '../../05_src/data/prices\\\\RCL\\\\RCL_2015.parquet', '../../05_src/data/prices\\\\RCL\\\\RCL_2016.parquet', '../../05_src/data/prices\\\\RCL\\\\RCL_2017.parquet', '../../05_src/data/prices\\\\RCL\\\\RCL_2018.parquet', '../../05_src/data/prices\\\\RCL\\\\RCL_2019.parquet', '../../05_src/data/prices\\\\RCL\\\\RCL_2020.parquet', '../../05_src/data/prices\\\\RCL\\\\RCL_2021.parquet', '../../05_src/data/prices\\\\RCL\\\\RCL_2022.parquet', '../../05_src/data/prices\\\\RCL\\\\RCL_2023.parquet', '../../05_src/data/prices\\\\RCL\\\\RCL_2024.parquet', '../../05_src/data/prices\\\\RHI\\\\RHI_2013.parquet', '../../05_src/data/prices\\\\RHI\\\\RHI_2014.parquet', '../../05_src/data/prices\\\\RHI\\\\RHI_2015.parquet', '../../05_src/data/prices\\\\RHI\\\\RHI_2016.parquet', '../../05_src/data/prices\\\\RHI\\\\RHI_2017.parquet', '../../05_src/data/prices\\\\RHI\\\\RHI_2018.parquet', '../../05_src/data/prices\\\\RHI\\\\RHI_2019.parquet', '../../05_src/data/prices\\\\RHI\\\\RHI_2020.parquet', '../../05_src/data/prices\\\\RHI\\\\RHI_2021.parquet', '../../05_src/data/prices\\\\RHI\\\\RHI_2022.parquet', '../../05_src/data/prices\\\\RHI\\\\RHI_2023.parquet', '../../05_src/data/prices\\\\RHI\\\\RHI_2024.parquet', '../../05_src/data/prices\\\\RL\\\\RL_2013.parquet', '../../05_src/data/prices\\\\RL\\\\RL_2014.parquet', '../../05_src/data/prices\\\\RL\\\\RL_2015.parquet', '../../05_src/data/prices\\\\RL\\\\RL_2016.parquet', '../../05_src/data/prices\\\\RL\\\\RL_2017.parquet', '../../05_src/data/prices\\\\RL\\\\RL_2018.parquet', '../../05_src/data/prices\\\\RL\\\\RL_2019.parquet', '../../05_src/data/prices\\\\RL\\\\RL_2020.parquet', '../../05_src/data/prices\\\\RL\\\\RL_2021.parquet', '../../05_src/data/prices\\\\RL\\\\RL_2022.parquet', '../../05_src/data/prices\\\\RL\\\\RL_2023.parquet', '../../05_src/data/prices\\\\RL\\\\RL_2024.parquet', '../../05_src/data/prices\\\\V\\\\V_2013.parquet', '../../05_src/data/prices\\\\V\\\\V_2014.parquet', '../../05_src/data/prices\\\\V\\\\V_2015.parquet', '../../05_src/data/prices\\\\V\\\\V_2016.parquet', '../../05_src/data/prices\\\\V\\\\V_2017.parquet', '../../05_src/data/prices\\\\V\\\\V_2018.parquet', '../../05_src/data/prices\\\\V\\\\V_2019.parquet', '../../05_src/data/prices\\\\V\\\\V_2020.parquet', '../../05_src/data/prices\\\\V\\\\V_2021.parquet', '../../05_src/data/prices\\\\V\\\\V_2022.parquet', '../../05_src/data/prices\\\\V\\\\V_2023.parquet', '../../05_src/data/prices\\\\V\\\\V_2024.parquet', '../../05_src/data/prices\\\\VICI\\\\VICI_2018.parquet', '../../05_src/data/prices\\\\VICI\\\\VICI_2019.parquet', '../../05_src/data/prices\\\\VICI\\\\VICI_2020.parquet', '../../05_src/data/prices\\\\VICI\\\\VICI_2021.parquet', '../../05_src/data/prices\\\\VICI\\\\VICI_2022.parquet', '../../05_src/data/prices\\\\VICI\\\\VICI_2023.parquet', '../../05_src/data/prices\\\\VICI\\\\VICI_2024.parquet', '../../05_src/data/prices\\\\VLO\\\\VLO_2013.parquet', '../../05_src/data/prices\\\\VLO\\\\VLO_2014.parquet', '../../05_src/data/prices\\\\VLO\\\\VLO_2015.parquet', '../../05_src/data/prices\\\\VLO\\\\VLO_2016.parquet', '../../05_src/data/prices\\\\VLO\\\\VLO_2017.parquet', '../../05_src/data/prices\\\\VLO\\\\VLO_2018.parquet', '../../05_src/data/prices\\\\VLO\\\\VLO_2019.parquet', '../../05_src/data/prices\\\\VLO\\\\VLO_2020.parquet', '../../05_src/data/prices\\\\VLO\\\\VLO_2021.parquet', '../../05_src/data/prices\\\\VLO\\\\VLO_2022.parquet', '../../05_src/data/prices\\\\VLO\\\\VLO_2023.parquet', '../../05_src/data/prices\\\\VLO\\\\VLO_2024.parquet', '../../05_src/data/prices\\\\WDC\\\\WDC_2013.parquet', '../../05_src/data/prices\\\\WDC\\\\WDC_2014.parquet', '../../05_src/data/prices\\\\WDC\\\\WDC_2015.parquet', '../../05_src/data/prices\\\\WDC\\\\WDC_2016.parquet', '../../05_src/data/prices\\\\WDC\\\\WDC_2017.parquet', '../../05_src/data/prices\\\\WDC\\\\WDC_2018.parquet', '../../05_src/data/prices\\\\WDC\\\\WDC_2019.parquet', '../../05_src/data/prices\\\\WDC\\\\WDC_2020.parquet', '../../05_src/data/prices\\\\WDC\\\\WDC_2021.parquet', '../../05_src/data/prices\\\\WDC\\\\WDC_2022.parquet', '../../05_src/data/prices\\\\WDC\\\\WDC_2023.parquet', '../../05_src/data/prices\\\\WDC\\\\WDC_2024.parquet', '../../05_src/data/prices\\\\WTW\\\\WTW_2013.parquet', '../../05_src/data/prices\\\\WTW\\\\WTW_2014.parquet', '../../05_src/data/prices\\\\WTW\\\\WTW_2015.parquet', '../../05_src/data/prices\\\\WTW\\\\WTW_2016.parquet', '../../05_src/data/prices\\\\WTW\\\\WTW_2017.parquet', '../../05_src/data/prices\\\\WTW\\\\WTW_2018.parquet', '../../05_src/data/prices\\\\WTW\\\\WTW_2019.parquet', '../../05_src/data/prices\\\\WTW\\\\WTW_2020.parquet', '../../05_src/data/prices\\\\WTW\\\\WTW_2021.parquet', '../../05_src/data/prices\\\\WTW\\\\WTW_2022.parquet', '../../05_src/data/prices\\\\WTW\\\\WTW_2023.parquet', '../../05_src/data/prices\\\\WTW\\\\WTW_2024.parquet', '../../05_src/data/prices\\\\YUM\\\\YUM_2013.parquet', '../../05_src/data/prices\\\\YUM\\\\YUM_2014.parquet', '../../05_src/data/prices\\\\YUM\\\\YUM_2015.parquet', '../../05_src/data/prices\\\\YUM\\\\YUM_2016.parquet', '../../05_src/data/prices\\\\YUM\\\\YUM_2017.parquet', '../../05_src/data/prices\\\\YUM\\\\YUM_2018.parquet', '../../05_src/data/prices\\\\YUM\\\\YUM_2019.parquet', '../../05_src/data/prices\\\\YUM\\\\YUM_2020.parquet', '../../05_src/data/prices\\\\YUM\\\\YUM_2021.parquet', '../../05_src/data/prices\\\\YUM\\\\YUM_2022.parquet', '../../05_src/data/prices\\\\YUM\\\\YUM_2023.parquet', '../../05_src/data/prices\\\\YUM\\\\YUM_2024.parquet']\n"
     ]
    }
   ],
   "source": [
    "import os\n",
    "from glob import glob\n",
    "\n",
    "# Write your code below.\n",
    "price_data_dir = os.getenv('PRICE_DATA')\n",
    "print(price_data_dir)\n",
    "\n",
    "parquet_files = glob(os.path.join(price_data_dir, \"*/*.parquet\"))\n",
    "print(parquet_files)\n"
   ]
  },
  {
   "cell_type": "markdown",
   "metadata": {},
   "source": [
    "For each ticker and using Dask, do the following:\n",
    "\n",
    "+ Add lags for variables Close and Adj_Close.\n",
    "+ Add returns based on Adjusted Close:\n",
    "    \n",
    "    - `returns`: (Adj Close / Adj Close_lag) - 1\n",
    "\n",
    "+ Add the following range: \n",
    "\n",
    "    - `hi_lo_range`: this is the day's High minus Low.\n",
    "\n",
    "+ Assign the result to `dd_feat`.\n",
    "\n",
    "(4 pt)"
   ]
  },
  {
   "cell_type": "code",
   "execution_count": 48,
   "metadata": {},
   "outputs": [],
   "source": [
    "# Write your code below\n",
    "import dask.dataframe as dd"
   ]
  },
  {
   "cell_type": "code",
   "execution_count": 49,
   "metadata": {},
   "outputs": [],
   "source": [
    "dd_px = dd.read_parquet(parquet_files).set_index(\"ticker\")"
   ]
  },
  {
   "cell_type": "code",
   "execution_count": 51,
   "metadata": {},
   "outputs": [
    {
     "name": "stdout",
     "output_type": "stream",
     "text": [
      "Index(['Date', 'Open', 'High', 'Low', 'Close', 'Volume', 'Dividends',\n",
      "       'Stock Splits', 'ticker', 'year'],\n",
      "      dtype='object')\n"
     ]
    }
   ],
   "source": [
    "df = dd.read_parquet(os.path.join(price_data_dir, \"*/*.parquet\"))\n",
    "print(df.columns)\n",
    "\n"
   ]
  },
  {
   "cell_type": "code",
   "execution_count": 68,
   "metadata": {},
   "outputs": [
    {
     "name": "stderr",
     "output_type": "stream",
     "text": [
      "C:\\Users\\Admin\\AppData\\Local\\Temp\\ipykernel_42928\\1801090267.py:2: UserWarning: `meta` is not specified, inferred from partial data. Please provide `meta` if the result is unexpected.\n",
      "  Before: .apply(func)\n",
      "  After:  .apply(func, meta={'x': 'f8', 'y': 'f8'}) for dataframe result\n",
      "  or:     .apply(func, meta=('x', 'f8'))            for series result\n",
      "  dd_feat = (dd_px.groupby('ticker', group_keys=False).apply(\n"
     ]
    }
   ],
   "source": [
    "import numpy as np\n",
    "dd_feat = (dd_px.groupby('ticker', group_keys=False).apply(\n",
    "    lambda x: x.assign(Close_lag_1 = x['Close'].shift(1))\n",
    ").assign(\n",
    "    returns = lambda x: x['Close']/x['Close_lag_1'] - 1\n",
    ").assign(\n",
    "    positive_return = lambda x: (x['returns'] > 0)*1\n",
    ").assign(\n",
    "     hi_lo_range = lambda x: x['High'] - x['Low']\n",
    "  \n",
    "))"
   ]
  },
  {
   "cell_type": "markdown",
   "metadata": {},
   "source": [
    "+ Convert the Dask data frame to a pandas data frame. \n",
    "+ Add a rolling average return calculation with a window of 10 days.\n",
    "+ *Tip*: Consider using `.rolling(10).mean()`.\n",
    "\n",
    "(3 pt)"
   ]
  },
  {
   "cell_type": "code",
   "execution_count": 69,
   "metadata": {},
   "outputs": [],
   "source": [
    "# Write your code below.\n",
    "df_pandas = dd_feat.compute()\n"
   ]
  },
  {
   "cell_type": "code",
   "execution_count": 74,
   "metadata": {},
   "outputs": [
    {
     "name": "stdout",
     "output_type": "stream",
     "text": [
      "                            Date        Open        High         Low  \\\n",
      "ticker                                                                 \n",
      "A      2024-01-02 00:00:00-05:00  137.965874  140.361975  137.686329   \n",
      "A      2024-01-03 00:00:00-05:00  137.776184  137.776184  130.857431   \n",
      "A      2024-01-04 00:00:00-05:00  130.338270  131.286726  129.978853   \n",
      "A      2024-01-05 00:00:00-05:00  129.789147  131.745974  128.411380   \n",
      "A      2024-01-08 00:00:00-05:00  129.928930  133.353375  129.599464   \n",
      "\n",
      "             Close   Volume  Dividends  Stock Splits  year  Close_lag_1  \\\n",
      "ticker                                                                    \n",
      "A       138.524963  1441600        0.0           0.0  2024          NaN   \n",
      "A       130.947281  2074500        0.0           0.0  2024   138.524963   \n",
      "A       130.787537  2446600        0.0           0.0  2024   130.947281   \n",
      "A       130.348236  1394000        0.0           0.0  2024   130.787537   \n",
      "A       133.163681  1311400        0.0           0.0  2024   130.348236   \n",
      "\n",
      "         returns  positive_return  hi_lo_range  rolling_avg_return  \n",
      "ticker                                                              \n",
      "A            NaN                0     2.675646                 NaN  \n",
      "A      -0.054703                0     6.918753                 NaN  \n",
      "A      -0.001220                0     1.307873                 NaN  \n",
      "A      -0.003359                0     3.334594                 NaN  \n",
      "A       0.021599                1     3.753912                 NaN  \n"
     ]
    }
   ],
   "source": [
    "df_pandas['rolling_avg_return'] = df_pandas['returns'].rolling(window=10).mean()\n",
    "print(df_pandas.head())"
   ]
  },
  {
   "cell_type": "markdown",
   "metadata": {},
   "source": [
    "Please comment:\n",
    "\n",
    "+ Was it necessary to convert to pandas to calculate the moving average return?\n",
    "+ Would it have been better to do it in Dask? Why?\n",
    "\n",
    "(1 pt)"
   ]
  },
  {
   "cell_type": "markdown",
   "metadata": {},
   "source": [
    "No, I don't think it is necessary to convert to pandas as Dask can calculate the moving average return.  \n",
    "  Yes, if the dataset is large enough and does not fit into memory, it is better to use Dask. Dask processes data in chunks, allowing us to work with datasets larger than memory without loading everything at once, which optimizes performance and memory usage."
   ]
  },
  {
   "cell_type": "markdown",
   "metadata": {},
   "source": [
    "## Criteria\n",
    "\n",
    "|Criteria|Complete|Incomplete|\n",
    "|---------------------|----|----|\n",
    "|Calculations         |Calculations were done correctly.|Calculations were not done correctly.|\n",
    "|Explanation of answer|Answer was concise and explained the learner's reasoning in depth.|Answer was not concise and did not explained the learner's reasoning in depth.|"
   ]
  },
  {
   "cell_type": "markdown",
   "metadata": {},
   "source": [
    "## Submission Information\n",
    "\n",
    "🚨 **Please review our [Assignment Submission Guide](https://github.com/UofT-DSI/onboarding/blob/main/onboarding_documents/submissions.md)** 🚨 for detailed instructions on how to format, branch, and submit your work. Following these guidelines is crucial for your submissions to be evaluated correctly.\n",
    "\n",
    "### Submission Parameters:\n",
    "* Submission Due Date: `HH:MM AM/PM - DD/MM/YYYY`\n",
    "* The branch name for your repo should be: `assignment-1`\n",
    "* What to submit for this assignment:\n",
    "    * This Jupyter Notebook (assignment_1.ipynb) should be populated and should be the only change in your pull request.\n",
    "* What the pull request link should look like for this assignment: `https://github.com/<your_github_username>/production/pull/<pr_id>`\n",
    "    * Open a private window in your browser. Copy and paste the link to your pull request into the address bar. Make sure you can see your pull request properly. This helps the technical facilitator and learning support staff review your submission easily.\n",
    "\n",
    "Checklist:\n",
    "- [ ] Created a branch with the correct naming convention.\n",
    "- [ ] Ensured that the repository is public.\n",
    "- [ ] Reviewed the PR description guidelines and adhered to them.\n",
    "- [ ] Verify that the link is accessible in a private browser window.\n",
    "\n",
    "If you encounter any difficulties or have questions, please don't hesitate to reach out to our team via our Slack at `#cohort-3-help`. Our Technical Facilitators and Learning Support staff are here to help you navigate any challenges."
   ]
  }
 ],
 "metadata": {
  "kernelspec": {
   "display_name": "env",
   "language": "python",
   "name": "python3"
  },
  "language_info": {
   "codemirror_mode": {
    "name": "ipython",
    "version": 3
   },
   "file_extension": ".py",
   "mimetype": "text/x-python",
   "name": "python",
   "nbconvert_exporter": "python",
   "pygments_lexer": "ipython3",
   "version": "3.9.15"
  }
 },
 "nbformat": 4,
 "nbformat_minor": 2
}
